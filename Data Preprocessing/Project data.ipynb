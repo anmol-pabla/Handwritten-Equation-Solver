{
 "cells": [
  {
   "cell_type": "code",
   "execution_count": 1,
   "metadata": {},
   "outputs": [],
   "source": [
    "import numpy as np\n",
    "import pandas as pd\n",
    "import cv2\n",
    "import matplotlib.pyplot as plt\n",
    "import os\n",
    "from os import listdir\n",
    "from os.path import isfile,join\n",
    "from PIL import Image"
   ]
  },
  {
   "cell_type": "code",
   "execution_count": 5,
   "metadata": {},
   "outputs": [],
   "source": [
    "def load_images_from_folder(folder):\n",
    "    train_data=[]\n",
    "    for filename in os.listdir(folder):\n",
    "        img=cv2.imread(os.path.join(folder,filename),cv2.IMREAD_GRAYSCALE)\n",
    "        img=~img\n",
    "        if img is not None:\n",
    "            _,thresh = cv2.threshold(img,127,255,cv2.THRESH_BINARY)\n",
    "            ctrs,_ = cv2.findContours(thresh,cv2.RETR_EXTERNAL,cv2.CHAIN_APPROX_NONE)\n",
    "            cnt=sorted(ctrs,key=lambda ctr:cv2.boundingRect(ctr)[0])\n",
    "            w=int(28)\n",
    "            h=int(28)\n",
    "            maxi=0\n",
    "            for c in cnt:\n",
    "                x,y,w,h = cv2.boundingRect(c)\n",
    "                maxi= max(w*h,maxi)\n",
    "                if maxi==w*h:   \n",
    "                    x_max=x\n",
    "                    y_max=y\n",
    "                    h_max=h\n",
    "                    w_max=w \n",
    "            im_crop=thresh[y_max:y_max+h_max+10,x_max:x_max+w_max+10]\n",
    "            im_resize=cv2.resize(im_crop,(28,28))\n",
    "            im_resize=np.reshape(im_resize,(784,1))\n",
    "            \n",
    "            train_data.append(im_resize)\n",
    "    return train_data        "
   ]
  },
  {
   "cell_type": "code",
   "execution_count": 6,
   "metadata": {},
   "outputs": [],
   "source": [
    "data=[]"
   ]
  },
  {
   "cell_type": "code",
   "execution_count": 7,
   "metadata": {},
   "outputs": [
    {
     "name": "stdout",
     "output_type": "stream",
     "text": [
      "1090\n"
     ]
    }
   ],
   "source": [
    "#- is 10, + is 11, times is 12\n",
    "data=load_images_from_folder(\"C:/Users/Anmol Pabla/Documents/Data1/train/-\")\n",
    "len(data)\n",
    "for i in range (0,len(data)):\n",
    "    data[i]=np.append(data[i],[\"10\"])\n",
    "print(len(data))    "
   ]
  },
  {
   "cell_type": "code",
   "execution_count": 8,
   "metadata": {},
   "outputs": [
    {
     "name": "stdout",
     "output_type": "stream",
     "text": [
      "2180\n"
     ]
    }
   ],
   "source": [
    "data0=load_images_from_folder(\"C:/Users/Anmol Pabla/Documents/Data1/train/+\")\n",
    "len(data0)\n",
    "for i in range (0,len(data0)):\n",
    "    data0[i]=np.append(data0[i],[\"11\"])\n",
    "data=np.concatenate((data,data0))    \n",
    "print(len(data))    "
   ]
  },
  {
   "cell_type": "code",
   "execution_count": 9,
   "metadata": {},
   "outputs": [
    {
     "name": "stdout",
     "output_type": "stream",
     "text": [
      "3270\n"
     ]
    }
   ],
   "source": [
    "data12=load_images_from_folder(\"C:/Users/Anmol Pabla/Documents/Data1/train/times\")\n",
    "len(data12)\n",
    "for i in range (0,len(data12)):\n",
    "    data12[i]=np.append(data12[i],[\"12\"])\n",
    "data=np.concatenate((data,data12))    \n",
    "print(len(data))    "
   ]
  },
  {
   "cell_type": "code",
   "execution_count": 10,
   "metadata": {},
   "outputs": [
    {
     "name": "stdout",
     "output_type": "stream",
     "text": [
      "3696\n"
     ]
    }
   ],
   "source": [
    "data00=load_images_from_folder(\"C:/Users/Anmol Pabla/Documents/Data1/train/0\")\n",
    "len(data00)\n",
    "for i in range (0,len(data00)):\n",
    "    data00[i]=np.append(data00[i],[\"0\"])\n",
    "data=np.concatenate((data,data00))    \n",
    "print(len(data))    "
   ]
  },
  {
   "cell_type": "code",
   "execution_count": 11,
   "metadata": {},
   "outputs": [
    {
     "name": "stdout",
     "output_type": "stream",
     "text": [
      "4128\n"
     ]
    }
   ],
   "source": [
    "data01=load_images_from_folder(\"C:/Users/Anmol Pabla/Documents/Data1/train/1\")\n",
    "len(data01)\n",
    "for i in range (0,len(data01)):\n",
    "    data01[i]=np.append(data01[i],[\"1\"])\n",
    "data=np.concatenate((data,data01))    \n",
    "print(len(data))    "
   ]
  },
  {
   "cell_type": "code",
   "execution_count": 12,
   "metadata": {},
   "outputs": [
    {
     "name": "stdout",
     "output_type": "stream",
     "text": [
      "4558\n"
     ]
    }
   ],
   "source": [
    "data02=load_images_from_folder(\"C:/Users/Anmol Pabla/Documents/Data1/train/2\")\n",
    "len(data02)\n",
    "for i in range (0,len(data02)):\n",
    "    data02[i]=np.append(data02[i],[\"2\"])\n",
    "data=np.concatenate((data,data02))    \n",
    "print(len(data))    "
   ]
  },
  {
   "cell_type": "code",
   "execution_count": 13,
   "metadata": {},
   "outputs": [
    {
     "name": "stdout",
     "output_type": "stream",
     "text": [
      "4987\n"
     ]
    }
   ],
   "source": [
    "data03=load_images_from_folder(\"C:/Users/Anmol Pabla/Documents/Data1/train/3\")\n",
    "len(data03)\n",
    "for i in range (0,len(data03)):\n",
    "    data03[i]=np.append(data03[i],[\"3\"])\n",
    "data=np.concatenate((data,data03))    \n",
    "print(len(data))    "
   ]
  },
  {
   "cell_type": "code",
   "execution_count": 14,
   "metadata": {},
   "outputs": [
    {
     "name": "stdout",
     "output_type": "stream",
     "text": [
      "5418\n"
     ]
    }
   ],
   "source": [
    "data04=load_images_from_folder(\"C:/Users/Anmol Pabla/Documents/Data1/train/4\")\n",
    "len(data04)\n",
    "for i in range (0,len(data04)):\n",
    "    data04[i]=np.append(data04[i],[\"4\"])\n",
    "data=np.concatenate((data,data04))    \n",
    "print(len(data))    "
   ]
  },
  {
   "cell_type": "code",
   "execution_count": 15,
   "metadata": {},
   "outputs": [
    {
     "name": "stdout",
     "output_type": "stream",
     "text": [
      "5849\n"
     ]
    }
   ],
   "source": [
    "data05=load_images_from_folder(\"C:/Users/Anmol Pabla/Documents/Data1/train/5\")\n",
    "len(data05)\n",
    "for i in range (0,len(data05)):\n",
    "    data05[i]=np.append(data05[i],[\"5\"])\n",
    "data=np.concatenate((data,data05))    \n",
    "print(len(data))    "
   ]
  },
  {
   "cell_type": "code",
   "execution_count": 16,
   "metadata": {},
   "outputs": [
    {
     "name": "stdout",
     "output_type": "stream",
     "text": [
      "6278\n"
     ]
    }
   ],
   "source": [
    "data06=load_images_from_folder(\"C:/Users/Anmol Pabla/Documents/Data1/train/6\")\n",
    "len(data00)\n",
    "for i in range (0,len(data06)):\n",
    "    data06[i]=np.append(data06[i],[\"6\"])\n",
    "data=np.concatenate((data,data06))    \n",
    "print(len(data))    "
   ]
  },
  {
   "cell_type": "code",
   "execution_count": 17,
   "metadata": {},
   "outputs": [
    {
     "name": "stdout",
     "output_type": "stream",
     "text": [
      "6708\n"
     ]
    }
   ],
   "source": [
    "data07=load_images_from_folder(\"C:/Users/Anmol Pabla/Documents/Data1/train/7\")\n",
    "len(data07)\n",
    "for i in range (0,len(data07)):\n",
    "    data07[i]=np.append(data07[i],[\"7\"])\n",
    "data=np.concatenate((data,data07))    \n",
    "print(len(data))    "
   ]
  },
  {
   "cell_type": "code",
   "execution_count": 18,
   "metadata": {},
   "outputs": [
    {
     "name": "stdout",
     "output_type": "stream",
     "text": [
      "7137\n"
     ]
    }
   ],
   "source": [
    "data08=load_images_from_folder(\"C:/Users/Anmol Pabla/Documents/Data1/train/8\")\n",
    "len(data08)\n",
    "for i in range (0,len(data08)):\n",
    "    data08[i]=np.append(data08[i],[\"8\"])\n",
    "data=np.concatenate((data,data08))    \n",
    "print(len(data))    "
   ]
  },
  {
   "cell_type": "code",
   "execution_count": 19,
   "metadata": {},
   "outputs": [
    {
     "name": "stdout",
     "output_type": "stream",
     "text": [
      "7567\n"
     ]
    }
   ],
   "source": [
    "data09=load_images_from_folder(\"C:/Users/Anmol Pabla/Documents/Data1/train/9\")\n",
    "len(data09)\n",
    "for i in range (0,len(data09)):\n",
    "    data09[i]=np.append(data09[i],[\"9\"])\n",
    "data=np.concatenate((data,data09))    \n",
    "print(len(data))    "
   ]
  },
  {
   "cell_type": "code",
   "execution_count": 20,
   "metadata": {},
   "outputs": [],
   "source": [
    "df=pd.DataFrame(data,index=None)\n",
    "df.to_csv('train_co.csv',index=False)"
   ]
  },
  {
   "cell_type": "code",
   "execution_count": 21,
   "metadata": {},
   "outputs": [
    {
     "name": "stdout",
     "output_type": "stream",
     "text": [
      "This is done!!\n"
     ]
    }
   ],
   "source": [
    "print(\"This is done!!\")"
   ]
  }
 ],
 "metadata": {
  "kernelspec": {
   "display_name": "Python 3",
   "language": "python",
   "name": "python3"
  },
  "language_info": {
   "codemirror_mode": {
    "name": "ipython",
    "version": 3
   },
   "file_extension": ".py",
   "mimetype": "text/x-python",
   "name": "python",
   "nbconvert_exporter": "python",
   "pygments_lexer": "ipython3",
   "version": "3.8.2"
  }
 },
 "nbformat": 4,
 "nbformat_minor": 4
}
